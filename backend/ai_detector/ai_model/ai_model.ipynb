{
 "cells": [
  {
   "cell_type": "code",
   "execution_count": 1,
   "id": "5a0f26da",
   "metadata": {},
   "outputs": [
    {
     "name": "stdout",
     "output_type": "stream",
     "text": [
      "Ultralytics 8.3.189  Python-3.10.8 torch-2.8.0+cpu CPU (AMD Ryzen 5 7520U with Radeon Graphics)\n",
      "Setup complete  (8 CPUs, 7.2 GB RAM, 153.6/267.3 GB disk)\n"
     ]
    }
   ],
   "source": [
    "!uv pip install ultralytics\n",
    "import ultralytics\n",
    "ultralytics.checks()"
   ]
  },
  {
   "cell_type": "code",
   "execution_count": null,
   "id": "be0f8759",
   "metadata": {},
   "outputs": [
    {
     "name": "stdout",
     "output_type": "stream",
     "text": [
      "\n",
      "\u001b[KDownloading https://a0.muscache.com/im/pictures/miso/Hosting-1465021958751934118/original/5a2ac49d-7039-43fa-867c-da124c898668.jpeg to '5a2ac49d-7039-43fa-867c-da124c898668.jpeg': 100% ━━━━━━━━━━━━ 320.6/320.6KB 1.8MB/s 0.2s\n",
      "image 1/1 c:\\Users\\walio\\Desktop\\Workspace\\brasenplus\\backend\\ai_detector\\ai_model\\5a2ac49d-7039-43fa-867c-da124c898668.jpeg: 640x480 3 Chairs, 2 Coffee tables, 1 House, 1 Studio couch, 4282.6ms\n",
      "Speed: 117.1ms preprocess, 4282.6ms inference, 42.9ms postprocess per image at shape (1, 3, 640, 480)\n",
      "Results saved to \u001b[1mruns\\detect\\predict\u001b[0m\n"
     ]
    }
   ],
   "source": [
    "from ultralytics import YOLO\n",
    "\n",
    "# Load an Open Images Dataset V7 pretrained YOLOv8n model\n",
    "model = YOLO(\"yolov8x-oiv7.pt\")\n",
    "\n",
    "# results = model.predict(\"api image\", save=True)"
   ]
  },
  {
   "cell_type": "code",
   "execution_count": null,
   "id": "ba2f2168",
   "metadata": {},
   "outputs": [],
   "source": [
    "results = model.train(data=\"HomeObjects-3K.yaml\", epochs=3, imgsz=640, freeze=10) # Freeze all layers except the detection head\n",
    "# Load a model\n",
    "modelp = YOLO(f\"{model.trainer.save_dir}/weights/best.pt\")  # load a fine-tuned model"
   ]
  }
 ],
 "metadata": {
  "kernelspec": {
   "display_name": "Python 3",
   "language": "python",
   "name": "python3"
  },
  "language_info": {
   "codemirror_mode": {
    "name": "ipython",
    "version": 3
   },
   "file_extension": ".py",
   "mimetype": "text/x-python",
   "name": "python",
   "nbconvert_exporter": "python",
   "pygments_lexer": "ipython3",
   "version": "3.10.8"
  }
 },
 "nbformat": 4,
 "nbformat_minor": 5
}
